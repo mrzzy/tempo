{
 "cells": [
  {
   "cell_type": "markdown",
   "metadata": {},
   "source": [
    "# Prepare the Greyc dataset\n",
    "In this notebook, we prepare the Greyc-Web dataset which was found online [here](http://www.labri.fr/perso/rgiot/ressources/GREYC-WebDataset.html) for machine learning"
   ]
  },
  {
   "cell_type": "markdown",
   "metadata": {},
   "source": [
    "## Imports & Setup"
   ]
  },
  {
   "cell_type": "code",
   "execution_count": 1,
   "metadata": {},
   "outputs": [],
   "source": [
    "import os\n",
    "import glob\n",
    "import matplotlib.pyplot as plt\n",
    "import numpy as np\n",
    "import pandas as pd\n",
    "\n",
    "import dask.dataframe as dd\n",
    "import dask.array as da\n",
    "from dask import delayed\n",
    "\n",
    "%load_ext autoreload\n",
    "%autoreload 2\n",
    "%matplotlib inline"
   ]
  },
  {
   "cell_type": "code",
   "execution_count": 2,
   "metadata": {},
   "outputs": [],
   "source": [
    "DATA_DIR=\"/tf/data/datasets/greyc_web/output_numpy\"\n",
    "OUTPUT_DIR=\"/tf/data/preprocessed\""
   ]
  },
  {
   "cell_type": "markdown",
   "metadata": {},
   "source": [
    "## Preparing the data\n",
    "In this section we attempt to load the Greyc Web dataset\n",
    "\n",
    "### Users data\n",
    "#### Loading the users\n",
    "According to the website that accompanied the dataset:\n",
    "```\n",
    "The ‘user’ directory contains one file per user named user/user_xxx.txt, with xxx the id of the user. Each user file contains the following information (one information per line):\n",
    "\n",
    "    the user id\n",
    "    the login of the user\n",
    "    the name of the user\n",
    "    the gender of the user\n",
    "    the age of the user\n",
    "```\n"
   ]
  },
  {
   "cell_type": "code",
   "execution_count": 3,
   "metadata": {},
   "outputs": [
    {
     "name": "stdout",
     "output_type": "stream",
     "text": [
      "CPU times: user 6.33 ms, sys: 0 ns, total: 6.33 ms\n",
      "Wall time: 5.33 ms\n"
     ]
    }
   ],
   "source": [
    "%%time\n",
    "\n",
    "user_paths = glob.glob(f\"{DATA_DIR}/users/*\")\n",
    "\n",
    "# load user data\n",
    "def load_user(path):\n",
    "    with open(path, \"r\") as f:\n",
    "        userid, login, name, gender, age = f.readlines()\n",
    "    \n",
    "    user = {\n",
    "        \"userid\": userid,\n",
    "        \"login\": login, \n",
    "        \"name\": name,\n",
    "        \"gender\": gender,\n",
    "        \"age\": age\n",
    "    }\n",
    "    \n",
    "    return user\n",
    "\n",
    "users = [ load_user(p) for p in user_paths ]\n",
    "users_df = pd.DataFrame(users)"
   ]
  },
  {
   "cell_type": "code",
   "execution_count": 4,
   "metadata": {},
   "outputs": [
    {
     "data": {
      "text/html": [
       "<div>\n",
       "<style scoped>\n",
       "    .dataframe tbody tr th:only-of-type {\n",
       "        vertical-align: middle;\n",
       "    }\n",
       "\n",
       "    .dataframe tbody tr th {\n",
       "        vertical-align: top;\n",
       "    }\n",
       "\n",
       "    .dataframe thead th {\n",
       "        text-align: right;\n",
       "    }\n",
       "</style>\n",
       "<table border=\"1\" class=\"dataframe\">\n",
       "  <thead>\n",
       "    <tr style=\"text-align: right;\">\n",
       "      <th></th>\n",
       "      <th>userid</th>\n",
       "      <th>login</th>\n",
       "      <th>name</th>\n",
       "      <th>gender</th>\n",
       "      <th>age</th>\n",
       "    </tr>\n",
       "  </thead>\n",
       "  <tbody>\n",
       "    <tr>\n",
       "      <th>16</th>\n",
       "      <td>31\\n</td>\n",
       "      <td>jrsanchez\\n</td>\n",
       "      <td>figaro\\n</td>\n",
       "      <td>M\\n</td>\n",
       "      <td>21\\n</td>\n",
       "    </tr>\n",
       "    <tr>\n",
       "      <th>7</th>\n",
       "      <td>82\\n</td>\n",
       "      <td>marpaud\\n</td>\n",
       "      <td>fuel4life\\n</td>\n",
       "      <td>M\\n</td>\n",
       "      <td>20\\n</td>\n",
       "    </tr>\n",
       "    <tr>\n",
       "      <th>48</th>\n",
       "      <td>26\\n</td>\n",
       "      <td>laval\\n</td>\n",
       "      <td>ensicaen\\n</td>\n",
       "      <td>M\\n</td>\n",
       "      <td>21\\n</td>\n",
       "    </tr>\n",
       "    <tr>\n",
       "      <th>85</th>\n",
       "      <td>13\\n</td>\n",
       "      <td>griech\\n</td>\n",
       "      <td>motsecret\\n</td>\n",
       "      <td>M\\n</td>\n",
       "      <td>22\\n</td>\n",
       "    </tr>\n",
       "    <tr>\n",
       "      <th>66</th>\n",
       "      <td>114\\n</td>\n",
       "      <td>wchaisantikulwat\\n</td>\n",
       "      <td>jaimepaslechoco\\n</td>\n",
       "      <td>F\\n</td>\n",
       "      <td>31\\n</td>\n",
       "    </tr>\n",
       "    <tr>\n",
       "      <th>65</th>\n",
       "      <td>86\\n</td>\n",
       "      <td>clabaux\\n</td>\n",
       "      <td>Paradoxe13\\n</td>\n",
       "      <td>M\\n</td>\n",
       "      <td>22\\n</td>\n",
       "    </tr>\n",
       "    <tr>\n",
       "      <th>108</th>\n",
       "      <td>65\\n</td>\n",
       "      <td>southapaseuth\\n</td>\n",
       "      <td>gogolepower\\n</td>\n",
       "      <td>F\\n</td>\n",
       "      <td>22\\n</td>\n",
       "    </tr>\n",
       "    <tr>\n",
       "      <th>26</th>\n",
       "      <td>95\\n</td>\n",
       "      <td>marciau\\n</td>\n",
       "      <td>knevoltage=baisse\\n</td>\n",
       "      <td>M\\n</td>\n",
       "      <td>22\\n</td>\n",
       "    </tr>\n",
       "    <tr>\n",
       "      <th>18</th>\n",
       "      <td>80\\n</td>\n",
       "      <td>jean\\n</td>\n",
       "      <td>lolmdrxd\\n</td>\n",
       "      <td>M\\n</td>\n",
       "      <td>19\\n</td>\n",
       "    </tr>\n",
       "    <tr>\n",
       "      <th>52</th>\n",
       "      <td>32\\n</td>\n",
       "      <td>gaetan.javelle\\n</td>\n",
       "      <td>bono1988\\n</td>\n",
       "      <td>M\\n</td>\n",
       "      <td>22\\n</td>\n",
       "    </tr>\n",
       "  </tbody>\n",
       "</table>\n",
       "</div>"
      ],
      "text/plain": [
       "    userid               login                 name gender   age\n",
       "16    31\\n         jrsanchez\\n             figaro\\n    M\\n  21\\n\n",
       "7     82\\n           marpaud\\n          fuel4life\\n    M\\n  20\\n\n",
       "48    26\\n             laval\\n           ensicaen\\n    M\\n  21\\n\n",
       "85    13\\n            griech\\n          motsecret\\n    M\\n  22\\n\n",
       "66   114\\n  wchaisantikulwat\\n    jaimepaslechoco\\n    F\\n  31\\n\n",
       "65    86\\n           clabaux\\n         Paradoxe13\\n    M\\n  22\\n\n",
       "108   65\\n     southapaseuth\\n        gogolepower\\n    F\\n  22\\n\n",
       "26    95\\n           marciau\\n  knevoltage=baisse\\n    M\\n  22\\n\n",
       "18    80\\n              jean\\n           lolmdrxd\\n    M\\n  19\\n\n",
       "52    32\\n    gaetan.javelle\\n           bono1988\\n    M\\n  22\\n"
      ]
     },
     "execution_count": 4,
     "metadata": {},
     "output_type": "execute_result"
    }
   ],
   "source": [
    "users_df.sample(10)"
   ]
  },
  {
   "cell_type": "code",
   "execution_count": 5,
   "metadata": {},
   "outputs": [
    {
     "data": {
      "text/html": [
       "<div>\n",
       "<style scoped>\n",
       "    .dataframe tbody tr th:only-of-type {\n",
       "        vertical-align: middle;\n",
       "    }\n",
       "\n",
       "    .dataframe tbody tr th {\n",
       "        vertical-align: top;\n",
       "    }\n",
       "\n",
       "    .dataframe thead th {\n",
       "        text-align: right;\n",
       "    }\n",
       "</style>\n",
       "<table border=\"1\" class=\"dataframe\">\n",
       "  <thead>\n",
       "    <tr style=\"text-align: right;\">\n",
       "      <th></th>\n",
       "      <th>count</th>\n",
       "      <th>unique</th>\n",
       "      <th>top</th>\n",
       "      <th>freq</th>\n",
       "    </tr>\n",
       "  </thead>\n",
       "  <tbody>\n",
       "    <tr>\n",
       "      <th>userid</th>\n",
       "      <td>118</td>\n",
       "      <td>118</td>\n",
       "      <td>57\\n</td>\n",
       "      <td>1</td>\n",
       "    </tr>\n",
       "    <tr>\n",
       "      <th>login</th>\n",
       "      <td>118</td>\n",
       "      <td>118</td>\n",
       "      <td>dassonville\\n</td>\n",
       "      <td>1</td>\n",
       "    </tr>\n",
       "    <tr>\n",
       "      <th>name</th>\n",
       "      <td>118</td>\n",
       "      <td>118</td>\n",
       "      <td>mata67\\n</td>\n",
       "      <td>1</td>\n",
       "    </tr>\n",
       "    <tr>\n",
       "      <th>gender</th>\n",
       "      <td>118</td>\n",
       "      <td>2</td>\n",
       "      <td>M\\n</td>\n",
       "      <td>98</td>\n",
       "    </tr>\n",
       "    <tr>\n",
       "      <th>age</th>\n",
       "      <td>118</td>\n",
       "      <td>18</td>\n",
       "      <td>20\\n</td>\n",
       "      <td>31</td>\n",
       "    </tr>\n",
       "  </tbody>\n",
       "</table>\n",
       "</div>"
      ],
      "text/plain": [
       "       count unique            top freq\n",
       "userid   118    118           57\\n    1\n",
       "login    118    118  dassonville\\n    1\n",
       "name     118    118       mata67\\n    1\n",
       "gender   118      2            M\\n   98\n",
       "age      118     18           20\\n   31"
      ]
     },
     "execution_count": 5,
     "metadata": {},
     "output_type": "execute_result"
    }
   ],
   "source": [
    "users_df.describe(include=\"all\").T"
   ]
  },
  {
   "cell_type": "markdown",
   "metadata": {},
   "source": [
    "#### Cleaning the users\n",
    "The user data requires cleaning, specifically, all elements have unwanted `\\n`s"
   ]
  },
  {
   "cell_type": "code",
   "execution_count": 6,
   "metadata": {},
   "outputs": [],
   "source": [
    "users_df = users_df.applymap((lambda x: x.strip()))"
   ]
  },
  {
   "cell_type": "code",
   "execution_count": 7,
   "metadata": {},
   "outputs": [
    {
     "data": {
      "text/html": [
       "<div>\n",
       "<style scoped>\n",
       "    .dataframe tbody tr th:only-of-type {\n",
       "        vertical-align: middle;\n",
       "    }\n",
       "\n",
       "    .dataframe tbody tr th {\n",
       "        vertical-align: top;\n",
       "    }\n",
       "\n",
       "    .dataframe thead th {\n",
       "        text-align: right;\n",
       "    }\n",
       "</style>\n",
       "<table border=\"1\" class=\"dataframe\">\n",
       "  <thead>\n",
       "    <tr style=\"text-align: right;\">\n",
       "      <th></th>\n",
       "      <th>userid</th>\n",
       "      <th>login</th>\n",
       "      <th>name</th>\n",
       "      <th>gender</th>\n",
       "      <th>age</th>\n",
       "    </tr>\n",
       "  </thead>\n",
       "  <tbody>\n",
       "    <tr>\n",
       "      <th>0</th>\n",
       "      <td>45</td>\n",
       "      <td>dassonville</td>\n",
       "      <td>yurgen24</td>\n",
       "      <td>F</td>\n",
       "      <td>20</td>\n",
       "    </tr>\n",
       "    <tr>\n",
       "      <th>1</th>\n",
       "      <td>19</td>\n",
       "      <td>waubry</td>\n",
       "      <td>phiwil14</td>\n",
       "      <td>M</td>\n",
       "      <td>36</td>\n",
       "    </tr>\n",
       "    <tr>\n",
       "      <th>2</th>\n",
       "      <td>113</td>\n",
       "      <td>kikilautruche</td>\n",
       "      <td>embuscade</td>\n",
       "      <td>F</td>\n",
       "      <td>21</td>\n",
       "    </tr>\n",
       "    <tr>\n",
       "      <th>3</th>\n",
       "      <td>35</td>\n",
       "      <td>bgodin</td>\n",
       "      <td>chapapa</td>\n",
       "      <td>M</td>\n",
       "      <td>19</td>\n",
       "    </tr>\n",
       "    <tr>\n",
       "      <th>4</th>\n",
       "      <td>21</td>\n",
       "      <td>marnier</td>\n",
       "      <td>g&gt;5079@7113&lt;m</td>\n",
       "      <td>M</td>\n",
       "      <td>21</td>\n",
       "    </tr>\n",
       "  </tbody>\n",
       "</table>\n",
       "</div>"
      ],
      "text/plain": [
       "  userid          login           name gender age\n",
       "0     45    dassonville       yurgen24      F  20\n",
       "1     19         waubry       phiwil14      M  36\n",
       "2    113  kikilautruche      embuscade      F  21\n",
       "3     35         bgodin        chapapa      M  19\n",
       "4     21        marnier  g>5079@7113<m      M  21"
      ]
     },
     "execution_count": 7,
     "metadata": {},
     "output_type": "execute_result"
    }
   ],
   "source": [
    "users_df.head()"
   ]
  },
  {
   "cell_type": "markdown",
   "metadata": {},
   "source": [
    "#### Configuring datatypes\n",
    "We configure datatypes for the dataframe as follows:"
   ]
  },
  {
   "cell_type": "code",
   "execution_count": 8,
   "metadata": {},
   "outputs": [],
   "source": [
    "users_df.userid = users_df[\"userid\"].astype(\"int32\")\n",
    "users_df.gender = users_df[\"gender\"].astype(\"category\")\n",
    "users_df.age = users_df[\"age\"].astype(\"int32\")"
   ]
  },
  {
   "cell_type": "code",
   "execution_count": 9,
   "metadata": {},
   "outputs": [
    {
     "name": "stdout",
     "output_type": "stream",
     "text": [
      "<class 'pandas.core.frame.DataFrame'>\n",
      "RangeIndex: 118 entries, 0 to 117\n",
      "Data columns (total 5 columns):\n",
      "userid    118 non-null int32\n",
      "login     118 non-null object\n",
      "name      118 non-null object\n",
      "gender    118 non-null category\n",
      "age       118 non-null int32\n",
      "dtypes: category(1), int32(2), object(2)\n",
      "memory usage: 3.1+ KB\n"
     ]
    }
   ],
   "source": [
    "users_df.info()"
   ]
  },
  {
   "cell_type": "markdown",
   "metadata": {},
   "source": [
    "### Keystroke Dyanmics\n",
    "According to the website, keystroke dyamics data is split into two parts\n",
    "1. `passphrases/` - where all users types the imposed username and password\n",
    "2. `password/` - where users type their own username and password"
   ]
  },
  {
   "cell_type": "markdown",
   "metadata": {},
   "source": [
    "#### Finding the Passphrase files\n",
    "Each entry is stored in directory structure `passphrases/user_<user_id>/<timestamp>`\n",
    "- under each user folder there is a file called `captures.txt` that contains the entries for the user"
   ]
  },
  {
   "cell_type": "code",
   "execution_count": 10,
   "metadata": {},
   "outputs": [
    {
     "data": {
      "text/plain": [
       "10656"
      ]
     },
     "execution_count": 10,
     "metadata": {},
     "output_type": "execute_result"
    }
   ],
   "source": [
    "# compute a list of entry paths\n",
    "entry_paths = []\n",
    "for user_dir in glob.glob(f\"{DATA_DIR}/passphrases/user_*\"):\n",
    "    with open(f\"{user_dir}/captures.txt\", \"r\") as f:\n",
    "        entries = f.readlines()\n",
    "        entry_paths.extend([f\"{user_dir}/{e.strip()}\" for e in entries])\n",
    "\n",
    "len(entry_paths)"
   ]
  },
  {
   "cell_type": "markdown",
   "metadata": {},
   "source": [
    "#### Loading Passphrase data\n",
    "For each entry there are the follow features of interest:\n",
    "- userAgent.txt: The user agent string of the web brower used to type (can be use to analyse the browser habits of the user)\n",
    "- userid.txt: The id of the user who has typed the text\n",
    "- date.txt: The acquisition date of the sample\n",
    "- genuine.txt: A file containing 1 for a sample typed by the user and 0 for a sample typed by an impostor\n",
    "- login.txt: The string of the login\n",
    "- password.txt: The string of the password\n",
    "- l_raw_press.txt: The press events of the login. One event per line with: the code of the key, the timestamp of the event.\n",
    "- l_raw_release.txt: The release events of the login. One event per line with: the code of the key, the timestamp of the event.\n",
    "- p_raw_press.txt: The press events of the password. One event per line with: the code of the key, the timestamp of the event.\n",
    "- p_raw_release.txt: The release events of the password. One event per line with: the code of the key, the timestamp of the event."
   ]
  },
  {
   "cell_type": "code",
   "execution_count": 11,
   "metadata": {},
   "outputs": [
    {
     "name": "stdout",
     "output_type": "stream",
     "text": [
      "CPU times: user 2.88 s, sys: 964 ms, total: 3.85 s\n",
      "Wall time: 3.86 s\n"
     ]
    }
   ],
   "source": [
    "%%time \n",
    "\n",
    "features_whitelist = [\n",
    "    \"userAgent\",\n",
    "    \"userid\",\n",
    "    \"date\",\n",
    "    \"genuine\",\n",
    "    \"login\",\n",
    "    \"password\",\n",
    "    \"l_raw_press\",\n",
    "    \"l_raw_release\",\n",
    "    \"p_raw_press\",\n",
    "    \"p_raw_release\"\n",
    "]\n",
    "\n",
    "# load the entry at the given path as a dict \n",
    "def load_entry(path):\n",
    "    feature_files = glob.glob(f\"{path}/*\")\n",
    "    entry = {}\n",
    "    for feature_file in feature_files:\n",
    "        # check if feature has been whitelisted\n",
    "        feature_name = os.path.basename(feature_file).replace(\".txt\",\"\")\n",
    "        if not feature_name in features_whitelist: continue\n",
    "        \n",
    "        # load the feature as a dict\n",
    "        with open(feature_file, \"r\") as f:\n",
    "            entry[feature_name] = f.read()\n",
    "        \n",
    "    return entry\n",
    "\n",
    "entries = [ load_entry(p) for p in entry_paths]\n",
    "passphrase_df = pd.DataFrame(entries)"
   ]
  },
  {
   "cell_type": "code",
   "execution_count": 12,
   "metadata": {},
   "outputs": [
    {
     "data": {
      "text/plain": [
       "count                                                 10656\n",
       "unique                                                  347\n",
       "top       Mozilla/5.0 (X11; U; Linux i686; fr; rv:1.9.2....\n",
       "freq                                                    492\n",
       "Name: userAgent, dtype: object"
      ]
     },
     "execution_count": 12,
     "metadata": {},
     "output_type": "execute_result"
    }
   ],
   "source": [
    "passphrase_df.userAgent.describe(include=\"all\")"
   ]
  },
  {
   "cell_type": "markdown",
   "metadata": {},
   "source": [
    "#### Cleaning the dataframe\n",
    "Configure the datatypes for passphrase:\n",
    "- the `date` feature should have `datetype` datatype\n",
    "- the `userAgent` feature should have `category` datatype\n",
    "- the `geninue` feature should have `category` datatype"
   ]
  },
  {
   "cell_type": "code",
   "execution_count": 13,
   "metadata": {},
   "outputs": [],
   "source": [
    "passphrase_df[\"date\"] = pd.to_datetime(passphrase_df[\"date\"])\n",
    "passphrase_df[\"userAgent\"] = passphrase_df[\"userAgent\"].astype(\"category\")\n",
    "passphrase_df[\"genuine\"] = passphrase_df[\"genuine\"].astype(\"category\")"
   ]
  },
  {
   "cell_type": "markdown",
   "metadata": {},
   "source": [
    "#### Finding the password files\n",
    "Password data is stored in the directory structure: \n",
    "- for geniune samples - `passwords/user_<user_id>/genuine`\n",
    "- for impostor samples - `passwords/user_<user_id>/impostor`\n",
    "\n",
    "In each sub-directory there is a file `captures.txt` that lists the entries available."
   ]
  },
  {
   "cell_type": "code",
   "execution_count": 14,
   "metadata": {},
   "outputs": [
    {
     "data": {
      "text/plain": [
       "19587"
      ]
     },
     "execution_count": 14,
     "metadata": {},
     "output_type": "execute_result"
    }
   ],
   "source": [
    "# compute a list of entry paths\n",
    "entry_paths = []\n",
    "for sector_dir in glob.glob(f\"{DATA_DIR}/passwords/user_*/*\"):\n",
    "    with open(f\"{sector_dir}/captures.txt\", \"r\") as f:\n",
    "        entries = f.readlines()\n",
    "        entry_paths.extend([f\"{sector_dir}/{e.strip()}\" for e in entries])\n",
    "\n",
    "len(entry_paths)"
   ]
  },
  {
   "cell_type": "markdown",
   "metadata": {},
   "source": [
    "#### Loading the Password data\n",
    "Reusing the `load_entry()` function we defined earlier, we load the password data"
   ]
  },
  {
   "cell_type": "code",
   "execution_count": 15,
   "metadata": {},
   "outputs": [
    {
     "name": "stdout",
     "output_type": "stream",
     "text": [
      "CPU times: user 5.3 s, sys: 1.86 s, total: 7.17 s\n",
      "Wall time: 7.18 s\n"
     ]
    }
   ],
   "source": [
    "%%time \n",
    "entries = [ load_entry(p) for p in entry_paths]\n",
    "password_df = pd.DataFrame(entries)"
   ]
  },
  {
   "cell_type": "markdown",
   "metadata": {},
   "source": [
    "#### Cleaning the dataframe\n",
    "Configure the datatypes for password:\n",
    "- the `date` feature should have `datetype` datatype\n",
    "- the `userAgent` feature should have `category` datatype\n",
    "- the `geninue` feature should have `category` datatype"
   ]
  },
  {
   "cell_type": "code",
   "execution_count": 16,
   "metadata": {},
   "outputs": [],
   "source": [
    "password_df[\"date\"] = pd.to_datetime(password_df[\"date\"])\n",
    "password_df[\"userAgent\"] = password_df[\"userAgent\"].astype(\"category\")\n",
    "password_df[\"genuine\"] = password_df[\"genuine\"].astype(\"category\")"
   ]
  },
  {
   "cell_type": "markdown",
   "metadata": {},
   "source": [
    "### Merge the dataset\n",
    "Merge the dataframes into one single dataframe."
   ]
  },
  {
   "cell_type": "code",
   "execution_count": 17,
   "metadata": {},
   "outputs": [],
   "source": [
    "keystroke_df = pd.concat([passphrase_df, password_df])"
   ]
  },
  {
   "cell_type": "code",
   "execution_count": 18,
   "metadata": {},
   "outputs": [
    {
     "data": {
      "text/html": [
       "<div>\n",
       "<style scoped>\n",
       "    .dataframe tbody tr th:only-of-type {\n",
       "        vertical-align: middle;\n",
       "    }\n",
       "\n",
       "    .dataframe tbody tr th {\n",
       "        vertical-align: top;\n",
       "    }\n",
       "\n",
       "    .dataframe thead th {\n",
       "        text-align: right;\n",
       "    }\n",
       "</style>\n",
       "<table border=\"1\" class=\"dataframe\">\n",
       "  <thead>\n",
       "    <tr style=\"text-align: right;\">\n",
       "      <th></th>\n",
       "      <th>l_raw_press</th>\n",
       "      <th>l_raw_release</th>\n",
       "      <th>p_raw_release</th>\n",
       "      <th>date</th>\n",
       "      <th>p_raw_press</th>\n",
       "      <th>password</th>\n",
       "      <th>genuine</th>\n",
       "      <th>userid</th>\n",
       "      <th>userAgent</th>\n",
       "      <th>login</th>\n",
       "    </tr>\n",
       "  </thead>\n",
       "  <tbody>\n",
       "    <tr>\n",
       "      <th>0</th>\n",
       "      <td>76 1287509923363\\n65 1287509923460\\n66 1287509...</td>\n",
       "      <td>76 1287509923448\\n65 1287509923577\\n66 1287509...</td>\n",
       "      <td>83 1287509928009\\n50 1287509928125\\n83 1287509...</td>\n",
       "      <td>2010-10-19 19:35:20</td>\n",
       "      <td>83 1287509927808\\n50 1287509927951\\n83 1287509...</td>\n",
       "      <td>sésame</td>\n",
       "      <td>1</td>\n",
       "      <td>13</td>\n",
       "      <td>Mozilla/5.0 (Windows; U; Windows NT 6.0; fr; r...</td>\n",
       "      <td>laboratoire greyc</td>\n",
       "    </tr>\n",
       "    <tr>\n",
       "      <th>1</th>\n",
       "      <td>76 1287509934960\\n65 1287509935008\\n66 1287509...</td>\n",
       "      <td>76 1287509935057\\n65 1287509935131\\n66 1287509...</td>\n",
       "      <td>83 1287509939604\\n50 1287509939686\\n83 1287509...</td>\n",
       "      <td>2010-10-19 19:35:30</td>\n",
       "      <td>83 1287509939434\\n50 1287509939567\\n83 1287509...</td>\n",
       "      <td>sésame</td>\n",
       "      <td>1</td>\n",
       "      <td>13</td>\n",
       "      <td>Mozilla/5.0 (Windows; U; Windows NT 6.0; fr; r...</td>\n",
       "      <td>laboratoire greyc</td>\n",
       "    </tr>\n",
       "    <tr>\n",
       "      <th>2</th>\n",
       "      <td>76 1287509943165\\n65 1287509943220\\n66 1287509...</td>\n",
       "      <td>76 1287509943249\\n65 1287509943321\\n66 1287509...</td>\n",
       "      <td>83 1287509947932\\n50 1287509948019\\n83 1287509...</td>\n",
       "      <td>2010-10-19 19:35:39</td>\n",
       "      <td>83 1287509947714\\n50 1287509947898\\n83 1287509...</td>\n",
       "      <td>sésame</td>\n",
       "      <td>1</td>\n",
       "      <td>13</td>\n",
       "      <td>Mozilla/5.0 (Windows; U; Windows NT 6.0; fr; r...</td>\n",
       "      <td>laboratoire greyc</td>\n",
       "    </tr>\n",
       "    <tr>\n",
       "      <th>3</th>\n",
       "      <td>76 1287509951226\\n65 1287509951281\\n66 1287509...</td>\n",
       "      <td>76 1287509951306\\n65 1287509951401\\n66 1287509...</td>\n",
       "      <td>83 1287509955198\\n50 1287509955275\\n83 1287509...</td>\n",
       "      <td>2010-10-19 19:35:46</td>\n",
       "      <td>83 1287509955029\\n50 1287509955139\\n83 1287509...</td>\n",
       "      <td>sésame</td>\n",
       "      <td>1</td>\n",
       "      <td>13</td>\n",
       "      <td>Mozilla/5.0 (Windows; U; Windows NT 6.0; fr; r...</td>\n",
       "      <td>laboratoire greyc</td>\n",
       "    </tr>\n",
       "    <tr>\n",
       "      <th>4</th>\n",
       "      <td>76 1287509957631\\n65 1287509957667\\n66 1287509...</td>\n",
       "      <td>76 1287509957687\\n65 1287509957756\\n66 1287509...</td>\n",
       "      <td>83 1287509962436\\n50 1287509962493\\n83 1287509...</td>\n",
       "      <td>2010-10-19 19:35:53</td>\n",
       "      <td>83 1287509962206\\n50 1287509962376\\n83 1287509...</td>\n",
       "      <td>sésame</td>\n",
       "      <td>1</td>\n",
       "      <td>13</td>\n",
       "      <td>Mozilla/5.0 (Windows; U; Windows NT 6.0; fr; r...</td>\n",
       "      <td>laboratoire greyc</td>\n",
       "    </tr>\n",
       "  </tbody>\n",
       "</table>\n",
       "</div>"
      ],
      "text/plain": [
       "                                         l_raw_press  \\\n",
       "0  76 1287509923363\\n65 1287509923460\\n66 1287509...   \n",
       "1  76 1287509934960\\n65 1287509935008\\n66 1287509...   \n",
       "2  76 1287509943165\\n65 1287509943220\\n66 1287509...   \n",
       "3  76 1287509951226\\n65 1287509951281\\n66 1287509...   \n",
       "4  76 1287509957631\\n65 1287509957667\\n66 1287509...   \n",
       "\n",
       "                                       l_raw_release  \\\n",
       "0  76 1287509923448\\n65 1287509923577\\n66 1287509...   \n",
       "1  76 1287509935057\\n65 1287509935131\\n66 1287509...   \n",
       "2  76 1287509943249\\n65 1287509943321\\n66 1287509...   \n",
       "3  76 1287509951306\\n65 1287509951401\\n66 1287509...   \n",
       "4  76 1287509957687\\n65 1287509957756\\n66 1287509...   \n",
       "\n",
       "                                       p_raw_release                date  \\\n",
       "0  83 1287509928009\\n50 1287509928125\\n83 1287509... 2010-10-19 19:35:20   \n",
       "1  83 1287509939604\\n50 1287509939686\\n83 1287509... 2010-10-19 19:35:30   \n",
       "2  83 1287509947932\\n50 1287509948019\\n83 1287509... 2010-10-19 19:35:39   \n",
       "3  83 1287509955198\\n50 1287509955275\\n83 1287509... 2010-10-19 19:35:46   \n",
       "4  83 1287509962436\\n50 1287509962493\\n83 1287509... 2010-10-19 19:35:53   \n",
       "\n",
       "                                         p_raw_press password genuine userid  \\\n",
       "0  83 1287509927808\\n50 1287509927951\\n83 1287509...   sésame       1     13   \n",
       "1  83 1287509939434\\n50 1287509939567\\n83 1287509...   sésame       1     13   \n",
       "2  83 1287509947714\\n50 1287509947898\\n83 1287509...   sésame       1     13   \n",
       "3  83 1287509955029\\n50 1287509955139\\n83 1287509...   sésame       1     13   \n",
       "4  83 1287509962206\\n50 1287509962376\\n83 1287509...   sésame       1     13   \n",
       "\n",
       "                                           userAgent              login  \n",
       "0  Mozilla/5.0 (Windows; U; Windows NT 6.0; fr; r...  laboratoire greyc  \n",
       "1  Mozilla/5.0 (Windows; U; Windows NT 6.0; fr; r...  laboratoire greyc  \n",
       "2  Mozilla/5.0 (Windows; U; Windows NT 6.0; fr; r...  laboratoire greyc  \n",
       "3  Mozilla/5.0 (Windows; U; Windows NT 6.0; fr; r...  laboratoire greyc  \n",
       "4  Mozilla/5.0 (Windows; U; Windows NT 6.0; fr; r...  laboratoire greyc  "
      ]
     },
     "execution_count": 18,
     "metadata": {},
     "output_type": "execute_result"
    }
   ],
   "source": [
    "keystroke_df.head()"
   ]
  },
  {
   "cell_type": "markdown",
   "metadata": {},
   "source": [
    "## Commit the dataset \n",
    "Commit the dataframe to disk as a feather file"
   ]
  },
  {
   "cell_type": "code",
   "execution_count": 19,
   "metadata": {},
   "outputs": [],
   "source": [
    "keystroke_df = keystroke_df.reset_index()\n",
    "keystroke_df.to_feather(f\"{OUTPUT_DIR}/keystroke.feather\")"
   ]
  }
 ],
 "metadata": {
  "kernelspec": {
   "display_name": "Python 3",
   "language": "python",
   "name": "python3"
  },
  "language_info": {
   "codemirror_mode": {
    "name": "ipython",
    "version": 3
   },
   "file_extension": ".py",
   "mimetype": "text/x-python",
   "name": "python",
   "nbconvert_exporter": "python",
   "pygments_lexer": "ipython3",
   "version": "3.6.8"
  }
 },
 "nbformat": 4,
 "nbformat_minor": 4
}
