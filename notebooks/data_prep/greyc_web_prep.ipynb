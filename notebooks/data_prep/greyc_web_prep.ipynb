{
 "cells": [
  {
   "cell_type": "markdown",
   "metadata": {},
   "source": [
    "# Prepare the Greyc dataset\n",
    "In this notebook, we prepare the Greyc-Web dataset which was found online [here](http://www.labri.fr/perso/rgiot/ressources/GREYC-WebDataset.html) for machine learning"
   ]
  },
  {
   "cell_type": "markdown",
   "metadata": {},
   "source": [
    "## Imports & Setup"
   ]
  },
  {
   "cell_type": "code",
   "execution_count": 97,
   "metadata": {},
   "outputs": [
    {
     "name": "stdout",
     "output_type": "stream",
     "text": [
      "The autoreload extension is already loaded. To reload it, use:\n",
      "  %reload_ext autoreload\n"
     ]
    }
   ],
   "source": [
    "import os\n",
    "import re\n",
    "import glob\n",
    "import matplotlib.pyplot as plt\n",
    "import numpy as np\n",
    "import pandas as pd\n",
    "\n",
    "\n",
    "from dataprep import *\n",
    "\n",
    "%load_ext autoreload\n",
    "%autoreload 2\n",
    "%matplotlib inline"
   ]
  },
  {
   "cell_type": "code",
   "execution_count": 74,
   "metadata": {},
   "outputs": [],
   "source": [
    "DATA_DIR=\"/tf/data/datasets/greyc_web/output_numpy\"\n",
    "OUTPUT_DIR=\"/tf/data/preped/greyc_web/\"\n",
    "!mkdir -p {OUTPUT_DIR}"
   ]
  },
  {
   "cell_type": "markdown",
   "metadata": {},
   "source": [
    "## Extracting the data\n",
    "In this section we attempt to load the Greyc Web dataset\n",
    "\n",
    "### Users data\n",
    "#### Loading the users\n",
    "According to the website that accompanied the dataset:\n",
    "```\n",
    "The ‘user’ directory contains one file per user named user/user_xxx.txt, with xxx the id of the user. Each user file contains the following information (one information per line):\n",
    "\n",
    "    the user id\n",
    "    the login of the user\n",
    "    the name of the user\n",
    "    the gender of the user\n",
    "    the age of the user\n",
    "```\n"
   ]
  },
  {
   "cell_type": "code",
   "execution_count": 75,
   "metadata": {},
   "outputs": [
    {
     "name": "stdout",
     "output_type": "stream",
     "text": [
      "CPU times: user 7.35 ms, sys: 615 µs, total: 7.96 ms\n",
      "Wall time: 57.2 ms\n"
     ]
    }
   ],
   "source": [
    "%%time\n",
    "\n",
    "user_paths = glob.glob(f\"{DATA_DIR}/users/*\")\n",
    "\n",
    "# load user data\n",
    "def load_user(path):\n",
    "    with open(path, \"r\") as f:\n",
    "        userid, login, name, gender, age = f.readlines()\n",
    "    \n",
    "    user = {\n",
    "        \"userid\": userid,\n",
    "        \"login\": login, \n",
    "        \"name\": name,\n",
    "        \"gender\": gender,\n",
    "        \"age\": age\n",
    "    }\n",
    "    \n",
    "    return user\n",
    "\n",
    "users = [ load_user(p) for p in user_paths ]\n",
    "users_df = pd.DataFrame(users)"
   ]
  },
  {
   "cell_type": "code",
   "execution_count": 76,
   "metadata": {},
   "outputs": [
    {
     "data": {
      "text/html": [
       "<div>\n",
       "<style scoped>\n",
       "    .dataframe tbody tr th:only-of-type {\n",
       "        vertical-align: middle;\n",
       "    }\n",
       "\n",
       "    .dataframe tbody tr th {\n",
       "        vertical-align: top;\n",
       "    }\n",
       "\n",
       "    .dataframe thead th {\n",
       "        text-align: right;\n",
       "    }\n",
       "</style>\n",
       "<table border=\"1\" class=\"dataframe\">\n",
       "  <thead>\n",
       "    <tr style=\"text-align: right;\">\n",
       "      <th></th>\n",
       "      <th>userid</th>\n",
       "      <th>login</th>\n",
       "      <th>name</th>\n",
       "      <th>gender</th>\n",
       "      <th>age</th>\n",
       "    </tr>\n",
       "  </thead>\n",
       "  <tbody>\n",
       "    <tr>\n",
       "      <th>66</th>\n",
       "      <td>114\\n</td>\n",
       "      <td>wchaisantikulwat\\n</td>\n",
       "      <td>jaimepaslechoco\\n</td>\n",
       "      <td>F\\n</td>\n",
       "      <td>31\\n</td>\n",
       "    </tr>\n",
       "    <tr>\n",
       "      <th>63</th>\n",
       "      <td>48\\n</td>\n",
       "      <td>germinou\\n</td>\n",
       "      <td>ggtruc_55\\n</td>\n",
       "      <td>M\\n</td>\n",
       "      <td>20\\n</td>\n",
       "    </tr>\n",
       "    <tr>\n",
       "      <th>21</th>\n",
       "      <td>30\\n</td>\n",
       "      <td>rosenberger\\n</td>\n",
       "      <td>testaromain\\n</td>\n",
       "      <td>M\\n</td>\n",
       "      <td>37\\n</td>\n",
       "    </tr>\n",
       "    <tr>\n",
       "      <th>99</th>\n",
       "      <td>63\\n</td>\n",
       "      <td>pardigon\\n</td>\n",
       "      <td>Groundation\\n</td>\n",
       "      <td>M\\n</td>\n",
       "      <td>22\\n</td>\n",
       "    </tr>\n",
       "    <tr>\n",
       "      <th>92</th>\n",
       "      <td>112\\n</td>\n",
       "      <td>kiki23\\n</td>\n",
       "      <td>autruche\\n</td>\n",
       "      <td>F\\n</td>\n",
       "      <td>19\\n</td>\n",
       "    </tr>\n",
       "    <tr>\n",
       "      <th>10</th>\n",
       "      <td>16\\n</td>\n",
       "      <td>sauvageot\\n</td>\n",
       "      <td>mot2passe\\n</td>\n",
       "      <td>F\\n</td>\n",
       "      <td>22\\n</td>\n",
       "    </tr>\n",
       "    <tr>\n",
       "      <th>114</th>\n",
       "      <td>103\\n</td>\n",
       "      <td>hatin\\n</td>\n",
       "      <td>ow6d0|)+\\n</td>\n",
       "      <td>M\\n</td>\n",
       "      <td>22\\n</td>\n",
       "    </tr>\n",
       "    <tr>\n",
       "      <th>5</th>\n",
       "      <td>20\\n</td>\n",
       "      <td>elabed\\n</td>\n",
       "      <td>elabedpassword\\n</td>\n",
       "      <td>M\\n</td>\n",
       "      <td>28\\n</td>\n",
       "    </tr>\n",
       "    <tr>\n",
       "      <th>8</th>\n",
       "      <td>117\\n</td>\n",
       "      <td>zins\\n</td>\n",
       "      <td>ostralopitek\\n</td>\n",
       "      <td>M\\n</td>\n",
       "      <td>20\\n</td>\n",
       "    </tr>\n",
       "    <tr>\n",
       "      <th>34</th>\n",
       "      <td>40\\n</td>\n",
       "      <td>bendaci\\n</td>\n",
       "      <td>Heidar\\n</td>\n",
       "      <td>M\\n</td>\n",
       "      <td>20\\n</td>\n",
       "    </tr>\n",
       "  </tbody>\n",
       "</table>\n",
       "</div>"
      ],
      "text/plain": [
       "    userid               login               name gender   age\n",
       "66   114\\n  wchaisantikulwat\\n  jaimepaslechoco\\n    F\\n  31\\n\n",
       "63    48\\n          germinou\\n        ggtruc_55\\n    M\\n  20\\n\n",
       "21    30\\n       rosenberger\\n      testaromain\\n    M\\n  37\\n\n",
       "99    63\\n          pardigon\\n      Groundation\\n    M\\n  22\\n\n",
       "92   112\\n            kiki23\\n         autruche\\n    F\\n  19\\n\n",
       "10    16\\n         sauvageot\\n        mot2passe\\n    F\\n  22\\n\n",
       "114  103\\n             hatin\\n         ow6d0|)+\\n    M\\n  22\\n\n",
       "5     20\\n            elabed\\n   elabedpassword\\n    M\\n  28\\n\n",
       "8    117\\n              zins\\n     ostralopitek\\n    M\\n  20\\n\n",
       "34    40\\n           bendaci\\n           Heidar\\n    M\\n  20\\n"
      ]
     },
     "execution_count": 76,
     "metadata": {},
     "output_type": "execute_result"
    }
   ],
   "source": [
    "users_df.sample(10)"
   ]
  },
  {
   "cell_type": "code",
   "execution_count": 77,
   "metadata": {},
   "outputs": [
    {
     "data": {
      "text/html": [
       "<div>\n",
       "<style scoped>\n",
       "    .dataframe tbody tr th:only-of-type {\n",
       "        vertical-align: middle;\n",
       "    }\n",
       "\n",
       "    .dataframe tbody tr th {\n",
       "        vertical-align: top;\n",
       "    }\n",
       "\n",
       "    .dataframe thead th {\n",
       "        text-align: right;\n",
       "    }\n",
       "</style>\n",
       "<table border=\"1\" class=\"dataframe\">\n",
       "  <thead>\n",
       "    <tr style=\"text-align: right;\">\n",
       "      <th></th>\n",
       "      <th>count</th>\n",
       "      <th>unique</th>\n",
       "      <th>top</th>\n",
       "      <th>freq</th>\n",
       "    </tr>\n",
       "  </thead>\n",
       "  <tbody>\n",
       "    <tr>\n",
       "      <th>userid</th>\n",
       "      <td>118</td>\n",
       "      <td>118</td>\n",
       "      <td>117\\n</td>\n",
       "      <td>1</td>\n",
       "    </tr>\n",
       "    <tr>\n",
       "      <th>login</th>\n",
       "      <td>118</td>\n",
       "      <td>118</td>\n",
       "      <td>ajoly\\n</td>\n",
       "      <td>1</td>\n",
       "    </tr>\n",
       "    <tr>\n",
       "      <th>name</th>\n",
       "      <td>118</td>\n",
       "      <td>118</td>\n",
       "      <td>motsecret\\n</td>\n",
       "      <td>1</td>\n",
       "    </tr>\n",
       "    <tr>\n",
       "      <th>gender</th>\n",
       "      <td>118</td>\n",
       "      <td>2</td>\n",
       "      <td>M\\n</td>\n",
       "      <td>98</td>\n",
       "    </tr>\n",
       "    <tr>\n",
       "      <th>age</th>\n",
       "      <td>118</td>\n",
       "      <td>18</td>\n",
       "      <td>20\\n</td>\n",
       "      <td>31</td>\n",
       "    </tr>\n",
       "  </tbody>\n",
       "</table>\n",
       "</div>"
      ],
      "text/plain": [
       "       count unique          top freq\n",
       "userid   118    118        117\\n    1\n",
       "login    118    118      ajoly\\n    1\n",
       "name     118    118  motsecret\\n    1\n",
       "gender   118      2          M\\n   98\n",
       "age      118     18         20\\n   31"
      ]
     },
     "execution_count": 77,
     "metadata": {},
     "output_type": "execute_result"
    }
   ],
   "source": [
    "users_df.describe(include=\"all\").T"
   ]
  },
  {
   "cell_type": "markdown",
   "metadata": {},
   "source": [
    "#### Cleaning the users\n",
    "The user data requires cleaning, specifically, all elements have unwanted `\\n`s"
   ]
  },
  {
   "cell_type": "code",
   "execution_count": 78,
   "metadata": {},
   "outputs": [],
   "source": [
    "users_df = users_df.applymap((lambda x: x.strip()))"
   ]
  },
  {
   "cell_type": "code",
   "execution_count": 79,
   "metadata": {},
   "outputs": [
    {
     "data": {
      "text/html": [
       "<div>\n",
       "<style scoped>\n",
       "    .dataframe tbody tr th:only-of-type {\n",
       "        vertical-align: middle;\n",
       "    }\n",
       "\n",
       "    .dataframe tbody tr th {\n",
       "        vertical-align: top;\n",
       "    }\n",
       "\n",
       "    .dataframe thead th {\n",
       "        text-align: right;\n",
       "    }\n",
       "</style>\n",
       "<table border=\"1\" class=\"dataframe\">\n",
       "  <thead>\n",
       "    <tr style=\"text-align: right;\">\n",
       "      <th></th>\n",
       "      <th>userid</th>\n",
       "      <th>login</th>\n",
       "      <th>name</th>\n",
       "      <th>gender</th>\n",
       "      <th>age</th>\n",
       "    </tr>\n",
       "  </thead>\n",
       "  <tbody>\n",
       "    <tr>\n",
       "      <th>0</th>\n",
       "      <td>45</td>\n",
       "      <td>dassonville</td>\n",
       "      <td>yurgen24</td>\n",
       "      <td>F</td>\n",
       "      <td>20</td>\n",
       "    </tr>\n",
       "    <tr>\n",
       "      <th>1</th>\n",
       "      <td>19</td>\n",
       "      <td>waubry</td>\n",
       "      <td>phiwil14</td>\n",
       "      <td>M</td>\n",
       "      <td>36</td>\n",
       "    </tr>\n",
       "    <tr>\n",
       "      <th>2</th>\n",
       "      <td>113</td>\n",
       "      <td>kikilautruche</td>\n",
       "      <td>embuscade</td>\n",
       "      <td>F</td>\n",
       "      <td>21</td>\n",
       "    </tr>\n",
       "    <tr>\n",
       "      <th>3</th>\n",
       "      <td>35</td>\n",
       "      <td>bgodin</td>\n",
       "      <td>chapapa</td>\n",
       "      <td>M</td>\n",
       "      <td>19</td>\n",
       "    </tr>\n",
       "    <tr>\n",
       "      <th>4</th>\n",
       "      <td>21</td>\n",
       "      <td>marnier</td>\n",
       "      <td>g&gt;5079@7113&lt;m</td>\n",
       "      <td>M</td>\n",
       "      <td>21</td>\n",
       "    </tr>\n",
       "  </tbody>\n",
       "</table>\n",
       "</div>"
      ],
      "text/plain": [
       "  userid          login           name gender age\n",
       "0     45    dassonville       yurgen24      F  20\n",
       "1     19         waubry       phiwil14      M  36\n",
       "2    113  kikilautruche      embuscade      F  21\n",
       "3     35         bgodin        chapapa      M  19\n",
       "4     21        marnier  g>5079@7113<m      M  21"
      ]
     },
     "execution_count": 79,
     "metadata": {},
     "output_type": "execute_result"
    }
   ],
   "source": [
    "users_df.head()"
   ]
  },
  {
   "cell_type": "markdown",
   "metadata": {},
   "source": [
    "#### Configuring datatypes\n",
    "We configure datatypes for the dataframe as follows:"
   ]
  },
  {
   "cell_type": "code",
   "execution_count": 80,
   "metadata": {},
   "outputs": [],
   "source": [
    "users_df.userid = users_df[\"userid\"].astype(\"int32\")\n",
    "users_df.gender = users_df[\"gender\"].astype(\"category\")\n",
    "users_df.age = users_df[\"age\"].astype(\"int32\")"
   ]
  },
  {
   "cell_type": "code",
   "execution_count": 81,
   "metadata": {},
   "outputs": [
    {
     "name": "stdout",
     "output_type": "stream",
     "text": [
      "<class 'pandas.core.frame.DataFrame'>\n",
      "RangeIndex: 118 entries, 0 to 117\n",
      "Data columns (total 5 columns):\n",
      "userid    118 non-null int32\n",
      "login     118 non-null object\n",
      "name      118 non-null object\n",
      "gender    118 non-null category\n",
      "age       118 non-null int32\n",
      "dtypes: category(1), int32(2), object(2)\n",
      "memory usage: 3.1+ KB\n"
     ]
    }
   ],
   "source": [
    "users_df.info()"
   ]
  },
  {
   "cell_type": "markdown",
   "metadata": {},
   "source": [
    "### Keystroke Dyanmics\n",
    "According to the website, keystroke dyamics data is split into two parts\n",
    "1. `passphrases/` - where all users types the imposed username and password\n",
    "2. `password/` - where users type their own username and password"
   ]
  },
  {
   "cell_type": "markdown",
   "metadata": {},
   "source": [
    "#### Finding the Passphrase files\n",
    "Each entry is stored in directory structure `passphrases/user_<user_id>/<timestamp>`\n",
    "- under each user folder there is a file called `captures.txt` that contains the entries for the user"
   ]
  },
  {
   "cell_type": "code",
   "execution_count": 82,
   "metadata": {},
   "outputs": [
    {
     "data": {
      "text/plain": [
       "10656"
      ]
     },
     "execution_count": 82,
     "metadata": {},
     "output_type": "execute_result"
    }
   ],
   "source": [
    "# compute a list of entry paths\n",
    "entry_paths = []\n",
    "for user_dir in glob.glob(f\"{DATA_DIR}/passphrases/user_*\"):\n",
    "    with open(f\"{user_dir}/captures.txt\", \"r\") as f:\n",
    "        entries = f.readlines()\n",
    "        entry_paths.extend([f\"{user_dir}/{e.strip()}\" for e in entries])\n",
    "\n",
    "len(entry_paths)"
   ]
  },
  {
   "cell_type": "markdown",
   "metadata": {},
   "source": [
    "#### Loading Passphrase data\n",
    "We load the for each entry in the dataset"
   ]
  },
  {
   "cell_type": "code",
   "execution_count": 83,
   "metadata": {},
   "outputs": [
    {
     "name": "stdout",
     "output_type": "stream",
     "text": [
      "CPU times: user 3.7 s, sys: 2.24 s, total: 5.94 s\n",
      "Wall time: 6.89 s\n"
     ]
    }
   ],
   "source": [
    "%%time \n",
    "\n",
    "features_whitelist = [\n",
    "    \"userAgent\",\n",
    "    \"userid\",\n",
    "    \"date\",\n",
    "    \"genuine\",\n",
    "    \"login\",\n",
    "    \"password\",\n",
    "    \"l_raw_press\",\n",
    "    \"l_raw_release\",\n",
    "    \"p_raw_press\",\n",
    "    \"p_raw_release\"\n",
    "]\n",
    "\n",
    "# load the entry at the given path as a dict \n",
    "def load_entry(path):\n",
    "    feature_files = glob.glob(f\"{path}/*\")\n",
    "    entry = {}\n",
    "    for feature_file in feature_files:\n",
    "        # check if feature has been whitelisted\n",
    "        feature_name = os.path.basename(feature_file).replace(\".txt\",\"\")\n",
    "        if not feature_name in features_whitelist: continue\n",
    "        \n",
    "        # load the feature as a dict\n",
    "        with open(feature_file, \"r\") as f:\n",
    "            entry[feature_name] = f.read()\n",
    "        \n",
    "        # extract target user from path\n",
    "        match = re.match(\".*user_([0-9]+).*\", path)\n",
    "        entry[\"target_userid\"] = match.group(1)\n",
    "        \n",
    "        \n",
    "    return entry\n",
    "\n",
    "entries = [ load_entry(p) for p in entry_paths]\n",
    "passphrase_df = pd.DataFrame(entries)"
   ]
  },
  {
   "cell_type": "code",
   "execution_count": 84,
   "metadata": {},
   "outputs": [
    {
     "data": {
      "text/plain": [
       "count                                                 10656\n",
       "unique                                                  347\n",
       "top       Mozilla/5.0 (X11; U; Linux i686; fr; rv:1.9.2....\n",
       "freq                                                    492\n",
       "Name: userAgent, dtype: object"
      ]
     },
     "execution_count": 84,
     "metadata": {},
     "output_type": "execute_result"
    }
   ],
   "source": [
    "passphrase_df.userAgent.describe(include=\"all\")"
   ]
  },
  {
   "cell_type": "markdown",
   "metadata": {},
   "source": [
    "#### Cleaning the dataframe\n",
    "Configure the datatypes for passphrase:\n",
    "- the `date` feature should have `datetype` datatype\n",
    "- the `userid` feature should have `int` datatype\n",
    "- the `target_userid` feature should have `int` datatype\n",
    "- the `userAgent` feature should have `category` datatype\n",
    "- the `geninue` feature should have `bool` datatype"
   ]
  },
  {
   "cell_type": "code",
   "execution_count": 85,
   "metadata": {},
   "outputs": [],
   "source": [
    "passphrase_df[\"date\"] = pd.to_datetime(passphrase_df[\"date\"])\n",
    "passphrase_df[\"userid\"] = passphrase_df[\"userid\"].astype(\"int\")\n",
    "passphrase_df[\"target_userid\"] = passphrase_df[\"target_userid\"].astype(\"int\")\n",
    "passphrase_df[\"userAgent\"] = passphrase_df[\"userAgent\"].astype(\"category\")\n",
    "passphrase_df[\"genuine\"] = passphrase_df[\"genuine\"].astype(\"bool\")"
   ]
  },
  {
   "cell_type": "markdown",
   "metadata": {},
   "source": [
    "#### Finding the password files\n",
    "Password data is stored in the directory structure: \n",
    "- for geniune samples - `passwords/user_<user_id>/genuine`\n",
    "- for impostor samples - `passwords/user_<user_id>/impostor`\n",
    "\n",
    "In each sub-directory there is a file `captures.txt` that lists the entries available."
   ]
  },
  {
   "cell_type": "code",
   "execution_count": 86,
   "metadata": {},
   "outputs": [
    {
     "data": {
      "text/plain": [
       "19587"
      ]
     },
     "execution_count": 86,
     "metadata": {},
     "output_type": "execute_result"
    }
   ],
   "source": [
    "# compute a list of entry paths\n",
    "entry_paths = []\n",
    "for sector_dir in glob.glob(f\"{DATA_DIR}/passwords/user_*/*\"):\n",
    "    with open(f\"{sector_dir}/captures.txt\", \"r\") as f:\n",
    "        entries = f.readlines()\n",
    "        entry_paths.extend([f\"{sector_dir}/{e.strip()}\" for e in entries])\n",
    "\n",
    "len(entry_paths)"
   ]
  },
  {
   "cell_type": "markdown",
   "metadata": {},
   "source": [
    "#### Loading the Password data\n",
    "Reusing the `load_entry()` function we defined earlier, we load the password data"
   ]
  },
  {
   "cell_type": "code",
   "execution_count": 87,
   "metadata": {},
   "outputs": [
    {
     "name": "stdout",
     "output_type": "stream",
     "text": [
      "CPU times: user 6.84 s, sys: 3.99 s, total: 10.8 s\n",
      "Wall time: 12.4 s\n"
     ]
    }
   ],
   "source": [
    "%%time \n",
    "entries = [ load_entry(p) for p in entry_paths]\n",
    "password_df = pd.DataFrame(entries)"
   ]
  },
  {
   "cell_type": "markdown",
   "metadata": {},
   "source": [
    "#### Cleaning the dataframe\n",
    "Configure the datatypes for password:\n",
    "- the `date` feature should have `datetype` datatype\n",
    "- the `userid` feature should have `int` datatype\n",
    "- the `target_userid` feature should have `int` datatype\n",
    "- the `userAgent` feature should have `category` datatype\n",
    "- the `geninue` feature should have `bool` datatype"
   ]
  },
  {
   "cell_type": "code",
   "execution_count": 88,
   "metadata": {},
   "outputs": [],
   "source": [
    "password_df[\"date\"] = pd.to_datetime(password_df[\"date\"])\n",
    "password_df[\"userid\"] = password_df[\"userid\"].astype(\"int\")\n",
    "password_df[\"target_userid\"] = password_df[\"target_userid\"].astype(\"int\")\n",
    "password_df[\"userAgent\"] = password_df[\"userAgent\"].astype(\"category\")\n",
    "password_df[\"genuine\"] = password_df[\"genuine\"].astype(\"bool\")"
   ]
  },
  {
   "cell_type": "markdown",
   "metadata": {},
   "source": [
    "### Merge the dataset\n",
    "Merge the dataframes into one single dataframe."
   ]
  },
  {
   "cell_type": "code",
   "execution_count": 89,
   "metadata": {},
   "outputs": [],
   "source": [
    "combined_df = pd.concat([passphrase_df, password_df])"
   ]
  },
  {
   "cell_type": "markdown",
   "metadata": {},
   "source": [
    "## Preprocessing the dataset\n",
    "In this section, we apply transformations to the dataset to prepare it for machine learning"
   ]
  },
  {
   "cell_type": "markdown",
   "metadata": {},
   "source": [
    "### Keystroke Dyanmics data\n",
    "Keystroke dynamics data are the data that we use as inputs to our model\n",
    "\n",
    "1. Parse the raw keystroke data into lists"
   ]
  },
  {
   "cell_type": "code",
   "execution_count": 90,
   "metadata": {},
   "outputs": [
    {
     "name": "stdout",
     "output_type": "stream",
     "text": [
      "CPU times: user 1.28 s, sys: 200 ms, total: 1.48 s\n",
      "Wall time: 1.48 s\n"
     ]
    }
   ],
   "source": [
    "%%time \n",
    "keystroke_feat_names = [\n",
    "    \"l_raw_press\",\n",
    "    \"l_raw_release\",\n",
    "    \"p_raw_press\",\n",
    "    \"p_raw_release\",\n",
    "]\n",
    "\n",
    "def process_entry(entry):\n",
    "    if type(entry) is str:\n",
    "        records = entry.split(\"\\n\")\n",
    "        records = [r.split() for r in records if r ]\n",
    "        entry = records\n",
    "    return entry\n",
    "\n",
    "combined_df[keystroke_feat_names] = combined_df[keystroke_feat_names].applymap(process_entry)"
   ]
  },
  {
   "cell_type": "markdown",
   "metadata": {},
   "source": [
    "2. Combine keystroke dynamics features for both login password to facilitate further processing.\n",
    "> Here we make the assumption that the keystroke dynamic features for both login and the password are the simliar"
   ]
  },
  {
   "cell_type": "code",
   "execution_count": 91,
   "metadata": {},
   "outputs": [],
   "source": [
    "combined_df[\"raw_press\"] = \\\n",
    "    combined_df.l_raw_press + combined_df.p_raw_press\n",
    "combined_df[\"raw_release\"] = \\\n",
    "    combined_df.l_raw_release + combined_df.p_raw_release\n",
    "features_df = combined_df[[\"raw_press\",  \"raw_release\"]]"
   ]
  },
  {
   "cell_type": "markdown",
   "metadata": {},
   "source": [
    "3. Perform feature extraction on the keystroke features transfroming the raw keytroke into the following features:\n",
    "- keycode\n",
    "- relative press timestamp\n",
    "- relative release timestamp\n",
    "- press to press timings\n",
    "- release to release timings\n",
    "- press to release timings\n",
    "- release to press timings"
   ]
  },
  {
   "cell_type": "code",
   "execution_count": 99,
   "metadata": {},
   "outputs": [
    {
     "name": "stdout",
     "output_type": "stream",
     "text": [
      "CPU times: user 4.39 s, sys: 72.8 ms, total: 4.46 s\n",
      "Wall time: 4.51 s\n"
     ]
    }
   ],
   "source": [
    "%%time\n",
    "extractor = KeystrokeFeatureExtractor()\n",
    "keystroke_features = extractor.fit_transform(features_df.values)"
   ]
  },
  {
   "cell_type": "markdown",
   "metadata": {},
   "source": [
    "### Metadata\n",
    "We extract the following columns as meta data for our keystroke data:"
   ]
  },
  {
   "cell_type": "code",
   "execution_count": 100,
   "metadata": {},
   "outputs": [],
   "source": [
    "meta_features = [\n",
    "    \"genuine\",\n",
    "    \"userid\",\n",
    "    \"target_userid\",\n",
    "    \"userAgent\"\n",
    "]\n",
    "\n",
    "meta_df = combined_df[meta_features]"
   ]
  },
  {
   "cell_type": "markdown",
   "metadata": {},
   "source": [
    "## Commit the dataset \n",
    "Commit the meta dataframe to disk as a feather file"
   ]
  },
  {
   "cell_type": "code",
   "execution_count": 101,
   "metadata": {},
   "outputs": [],
   "source": [
    "meta_df = meta_df.reset_index()\n",
    "meta_df.to_feather(f\"{OUTPUT_DIR}/meta.feather\")"
   ]
  },
  {
   "cell_type": "markdown",
   "metadata": {},
   "source": [
    "Commit the numpy array as `.npz` file"
   ]
  },
  {
   "cell_type": "code",
   "execution_count": 102,
   "metadata": {},
   "outputs": [],
   "source": [
    "with open(f\"{OUTPUT_DIR}/keystroke.npz\", \"wb\") as f:\n",
    "    np.savez(f, keystroke=keystroke_features)"
   ]
  }
 ],
 "metadata": {
  "kernelspec": {
   "display_name": "Python 3",
   "language": "python",
   "name": "python3"
  },
  "language_info": {
   "codemirror_mode": {
    "name": "ipython",
    "version": 3
   },
   "file_extension": ".py",
   "mimetype": "text/x-python",
   "name": "python",
   "nbconvert_exporter": "python",
   "pygments_lexer": "ipython3",
   "version": "3.6.8"
  }
 },
 "nbformat": 4,
 "nbformat_minor": 4
}
